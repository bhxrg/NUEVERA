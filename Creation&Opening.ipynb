{
 "cells": [
  {
   "cell_type": "markdown",
   "id": "7ebd8601-920e-4e6c-a26c-894262fff4d4",
   "metadata": {},
   "source": [
    "## opening and creating files/folders using speech recognition"
   ]
  },
  {
   "cell_type": "code",
   "execution_count": 1,
   "id": "7ce07077-1084-4a8b-bc72-0c2f39dcc03e",
   "metadata": {
    "tags": []
   },
   "outputs": [
    {
     "name": "stdout",
     "output_type": "stream",
     "text": [
      "Requirement already satisfied: SpeechRecognition in c:\\users\\prasanna\\anaconda\\lib\\site-packages (3.10.0)\n",
      "Requirement already satisfied: requests>=2.26.0 in c:\\users\\prasanna\\anaconda\\lib\\site-packages (from SpeechRecognition) (2.31.0)\n",
      "Requirement already satisfied: charset-normalizer<4,>=2 in c:\\users\\prasanna\\anaconda\\lib\\site-packages (from requests>=2.26.0->SpeechRecognition) (2.0.4)\n",
      "Requirement already satisfied: idna<4,>=2.5 in c:\\users\\prasanna\\anaconda\\lib\\site-packages (from requests>=2.26.0->SpeechRecognition) (3.4)\n",
      "Requirement already satisfied: urllib3<3,>=1.21.1 in c:\\users\\prasanna\\anaconda\\lib\\site-packages (from requests>=2.26.0->SpeechRecognition) (1.26.16)\n",
      "Requirement already satisfied: certifi>=2017.4.17 in c:\\users\\prasanna\\anaconda\\lib\\site-packages (from requests>=2.26.0->SpeechRecognition) (2023.7.22)\n",
      "Note: you may need to restart the kernel to use updated packages.\n"
     ]
    }
   ],
   "source": [
    "pip install SpeechRecognition"
   ]
  },
  {
   "cell_type": "code",
   "execution_count": 4,
   "id": "c3f5f1e7-9c7c-4637-825a-bb4b0b04214e",
   "metadata": {
    "tags": []
   },
   "outputs": [],
   "source": [
    "import os"
   ]
  },
  {
   "cell_type": "code",
   "execution_count": 2,
   "id": "64f06a98-b324-44ef-843e-3b46cf96cdc6",
   "metadata": {
    "tags": []
   },
   "outputs": [
    {
     "name": "stdout",
     "output_type": "stream",
     "text": [
      "Requirement already satisfied: pipwin in c:\\users\\prasanna\\anaconda\\lib\\site-packages (0.5.2)\n",
      "Requirement already satisfied: docopt in c:\\users\\prasanna\\anaconda\\lib\\site-packages (from pipwin) (0.6.2)\n",
      "Requirement already satisfied: requests in c:\\users\\prasanna\\anaconda\\lib\\site-packages (from pipwin) (2.31.0)\n",
      "Requirement already satisfied: pyprind in c:\\users\\prasanna\\anaconda\\lib\\site-packages (from pipwin) (2.11.3)\n",
      "Requirement already satisfied: six in c:\\users\\prasanna\\anaconda\\lib\\site-packages (from pipwin) (1.16.0)\n",
      "Requirement already satisfied: beautifulsoup4>=4.9.0 in c:\\users\\prasanna\\anaconda\\lib\\site-packages (from pipwin) (4.12.2)\n",
      "Requirement already satisfied: js2py in c:\\users\\prasanna\\anaconda\\lib\\site-packages (from pipwin) (0.74)\n",
      "Requirement already satisfied: packaging in c:\\users\\prasanna\\anaconda\\lib\\site-packages (from pipwin) (23.1)\n",
      "Requirement already satisfied: pySmartDL>=1.3.1 in c:\\users\\prasanna\\anaconda\\lib\\site-packages (from pipwin) (1.3.4)\n",
      "Requirement already satisfied: soupsieve>1.2 in c:\\users\\prasanna\\anaconda\\lib\\site-packages (from beautifulsoup4>=4.9.0->pipwin) (2.4)\n",
      "Requirement already satisfied: tzlocal>=1.2 in c:\\users\\prasanna\\anaconda\\lib\\site-packages (from js2py->pipwin) (5.2)\n",
      "Requirement already satisfied: pyjsparser>=2.5.1 in c:\\users\\prasanna\\anaconda\\lib\\site-packages (from js2py->pipwin) (2.7.1)\n",
      "Requirement already satisfied: charset-normalizer<4,>=2 in c:\\users\\prasanna\\anaconda\\lib\\site-packages (from requests->pipwin) (2.0.4)\n",
      "Requirement already satisfied: idna<4,>=2.5 in c:\\users\\prasanna\\anaconda\\lib\\site-packages (from requests->pipwin) (3.4)\n",
      "Requirement already satisfied: urllib3<3,>=1.21.1 in c:\\users\\prasanna\\anaconda\\lib\\site-packages (from requests->pipwin) (1.26.16)\n",
      "Requirement already satisfied: certifi>=2017.4.17 in c:\\users\\prasanna\\anaconda\\lib\\site-packages (from requests->pipwin) (2023.7.22)\n",
      "Requirement already satisfied: tzdata in c:\\users\\prasanna\\anaconda\\lib\\site-packages (from tzlocal>=1.2->js2py->pipwin) (2023.3)\n",
      "Note: you may need to restart the kernel to use updated packages.\n"
     ]
    }
   ],
   "source": [
    "pip install pipwin"
   ]
  },
  {
   "cell_type": "code",
   "execution_count": 1,
   "id": "a0e90065-1651-4520-bafd-c1bde0d84209",
   "metadata": {
    "tags": []
   },
   "outputs": [
    {
     "name": "stdout",
     "output_type": "stream",
     "text": [
      "Collecting sounddevice\n",
      "  Downloading sounddevice-0.4.6-py3-none-win_amd64.whl (199 kB)\n",
      "     ---------------------------------------- 0.0/199.7 kB ? eta -:--:--\n",
      "     -- ------------------------------------- 10.2/199.7 kB ? eta -:--:--\n",
      "     ------- ----------------------------- 41.0/199.7 kB 653.6 kB/s eta 0:00:01\n",
      "     ----------- ------------------------- 61.4/199.7 kB 812.7 kB/s eta 0:00:01\n",
      "     ---------------------- ------------- 122.9/199.7 kB 901.1 kB/s eta 0:00:01\n",
      "     --------------------------------- ---- 174.1/199.7 kB 1.0 MB/s eta 0:00:01\n",
      "     ------------------------------------ 199.7/199.7 kB 865.2 kB/s eta 0:00:00\n",
      "Requirement already satisfied: CFFI>=1.0 in c:\\users\\prasanna\\anaconda\\lib\\site-packages (from sounddevice) (1.15.1)\n",
      "Requirement already satisfied: pycparser in c:\\users\\prasanna\\anaconda\\lib\\site-packages (from CFFI>=1.0->sounddevice) (2.21)\n",
      "Installing collected packages: sounddevice\n",
      "Successfully installed sounddevice-0.4.6\n",
      "Note: you may need to restart the kernel to use updated packages.\n"
     ]
    }
   ],
   "source": [
    "pip install sounddevice"
   ]
  },
  {
   "cell_type": "code",
   "execution_count": 1,
   "id": "6c16bf8c-0a7c-413d-8896-af83a0a558fd",
   "metadata": {
    "tags": []
   },
   "outputs": [
    {
     "name": "stdout",
     "output_type": "stream",
     "text": [
      "Collecting pydub\n",
      "  Downloading pydub-0.25.1-py2.py3-none-any.whl (32 kB)\n",
      "Installing collected packages: pydub\n",
      "Successfully installed pydub-0.25.1\n",
      "Note: you may need to restart the kernel to use updated packages.\n"
     ]
    }
   ],
   "source": [
    "pip install pydub"
   ]
  },
  {
   "cell_type": "code",
   "execution_count": 10,
   "id": "00d73a04-d0c5-4dfa-8a63-38ea19eb2712",
   "metadata": {
    "tags": []
   },
   "outputs": [
    {
     "name": "stdout",
     "output_type": "stream",
     "text": [
      "Collecting pyaudioNote: you may need to restart the kernel to use updated packages.\n",
      "\n",
      "  Downloading PyAudio-0.2.13-cp311-cp311-win_amd64.whl (164 kB)\n",
      "     ---------------------------------------- 0.0/164.1 kB ? eta -:--:--\n",
      "     ---------------------------------------- 0.0/164.1 kB ? eta -:--:--\n",
      "     -- ------------------------------------- 10.2/164.1 kB ? eta -:--:--\n",
      "     -- ------------------------------------- 10.2/164.1 kB ? eta -:--:--\n",
      "     ------ ------------------------------ 30.7/164.1 kB 217.9 kB/s eta 0:00:01\n",
      "     --------- --------------------------- 41.0/164.1 kB 217.9 kB/s eta 0:00:01\n",
      "     ------------------ ------------------ 81.9/164.1 kB 381.3 kB/s eta 0:00:01\n",
      "     ------------------------------- ---- 143.4/164.1 kB 566.5 kB/s eta 0:00:01\n",
      "     ------------------------------------ 164.1/164.1 kB 578.3 kB/s eta 0:00:00\n",
      "Installing collected packages: pyaudio\n",
      "Successfully installed pyaudio-0.2.13\n"
     ]
    }
   ],
   "source": [
    "pip install pyaudio\n"
   ]
  },
  {
   "cell_type": "code",
   "execution_count": null,
   "id": "ffa10a4c-2b83-45dc-a17b-32088c87ebf9",
   "metadata": {
    "tags": []
   },
   "outputs": [
    {
     "name": "stdout",
     "output_type": "stream",
     "text": [
      "Listening for a command...\n",
      "You said: create folder\n",
      "Folder created: folder\n",
      "Listening for a command...\n"
     ]
    }
   ],
   "source": [
    "import os\n",
    "import speech_recognition as sr\n",
    "import subprocess\n",
    "\n",
    "# Initialize the recognizer\n",
    "recognizer = sr.Recognizer()\n",
    "\n",
    "# Define the command keywords\n",
    "commands = {\n",
    "    \"open file\": \"open\",\n",
    "    \"create folder\": \"create\",\n",
    "}\n",
    "\n",
    "# Function to open a file by name\n",
    "def open_file(file_name):\n",
    "    if os.path.exists(file_name):\n",
    "        try:\n",
    "            subprocess.Popen(['open', file_name], shell=True)\n",
    "            print(f\"Opening file: {file_name}\")\n",
    "        except Exception as e:\n",
    "            print(f\"Error opening the file: {e}\")\n",
    "    else:\n",
    "        print(f\"File not found: {file_name}\")\n",
    "\n",
    "# Function to handle voice commands\n",
    "def handle_voice_command(command):\n",
    "    if \"open\" in command:\n",
    "        # Extract the file name from the command\n",
    "        file_name = command.replace(\"open\", \"\").strip()\n",
    "        open_file(file_name)\n",
    "    elif \"create\" in command:\n",
    "        folder_name = command.replace(\"create\", \"\").strip()\n",
    "        try:\n",
    "            os.mkdir(folder_name)\n",
    "            print(f\"Folder created: {folder_name}\")\n",
    "        except FileExistsError:\n",
    "            print(f\"Folder already exists: {folder_name}\")\n",
    "    else:\n",
    "        print(\"Command not recognized\")\n",
    "\n",
    "# Voice recognition loop\n",
    "while True:\n",
    "    with sr.Microphone() as source:\n",
    "        print(\"Listening for a command...\")\n",
    "        audio = recognizer.listen(source)\n",
    "\n",
    "    try:\n",
    "        command = recognizer.recognize_google(audio).lower()\n",
    "        print(\"You said:\", command)\n",
    "        handle_voice_command(command)\n",
    "    except sr.UnknownValueError:\n",
    "        print(\"Could not understand audio\")\n",
    "    except sr.RequestError as e:\n",
    "        print(f\"Could not request results; {e}\")\n"
   ]
  },
  {
   "cell_type": "code",
   "execution_count": 1,
   "id": "6cb4f53c-d8f2-41e1-92ad-a3f48a364aed",
   "metadata": {
    "tags": []
   },
   "outputs": [
    {
     "name": "stdout",
     "output_type": "stream",
     "text": [
      "Listening for a command...\n",
      "You said: open fifth sdm\n",
      "Error opening the item: [WinError 2] The system cannot find the file specified: 'fifth sdm'\n",
      "Listening for a command...\n",
      "You said: open system\n",
      "Opening item: system\n",
      "Listening for a command...\n",
      "Could not understand audio\n",
      "Listening for a command...\n"
     ]
    },
    {
     "ename": "OSError",
     "evalue": "[Errno -9988] Stream closed",
     "output_type": "error",
     "traceback": [
      "\u001b[1;31m---------------------------------------------------------------------------\u001b[0m",
      "\u001b[1;31mOSError\u001b[0m                                   Traceback (most recent call last)",
      "Cell \u001b[1;32mIn[1], line 23\u001b[0m\n\u001b[0;32m     22\u001b[0m     \u001b[38;5;28mprint\u001b[39m(\u001b[38;5;124m\"\u001b[39m\u001b[38;5;124mListening for a command...\u001b[39m\u001b[38;5;124m\"\u001b[39m)\n\u001b[1;32m---> 23\u001b[0m     audio \u001b[38;5;241m=\u001b[39m recognizer\u001b[38;5;241m.\u001b[39mlisten(source)\n\u001b[0;32m     25\u001b[0m \u001b[38;5;28;01mtry\u001b[39;00m:\n",
      "File \u001b[1;32m~\\anaconda\\Lib\\site-packages\\speech_recognition\\__init__.py:523\u001b[0m, in \u001b[0;36mRecognizer.listen\u001b[1;34m(self, source, timeout, phrase_time_limit, snowboy_configuration)\u001b[0m\n\u001b[0;32m    521\u001b[0m     \u001b[38;5;28;01mbreak\u001b[39;00m\n\u001b[1;32m--> 523\u001b[0m buffer \u001b[38;5;241m=\u001b[39m source\u001b[38;5;241m.\u001b[39mstream\u001b[38;5;241m.\u001b[39mread(source\u001b[38;5;241m.\u001b[39mCHUNK)\n\u001b[0;32m    524\u001b[0m \u001b[38;5;28;01mif\u001b[39;00m \u001b[38;5;28mlen\u001b[39m(buffer) \u001b[38;5;241m==\u001b[39m \u001b[38;5;241m0\u001b[39m: \u001b[38;5;28;01mbreak\u001b[39;00m  \u001b[38;5;66;03m# reached end of the stream\u001b[39;00m\n",
      "File \u001b[1;32m~\\anaconda\\Lib\\site-packages\\speech_recognition\\__init__.py:199\u001b[0m, in \u001b[0;36mMicrophone.MicrophoneStream.read\u001b[1;34m(self, size)\u001b[0m\n\u001b[0;32m    198\u001b[0m \u001b[38;5;28;01mdef\u001b[39;00m \u001b[38;5;21mread\u001b[39m(\u001b[38;5;28mself\u001b[39m, size):\n\u001b[1;32m--> 199\u001b[0m     \u001b[38;5;28;01mreturn\u001b[39;00m \u001b[38;5;28mself\u001b[39m\u001b[38;5;241m.\u001b[39mpyaudio_stream\u001b[38;5;241m.\u001b[39mread(size, exception_on_overflow\u001b[38;5;241m=\u001b[39m\u001b[38;5;28;01mFalse\u001b[39;00m)\n",
      "File \u001b[1;32m~\\anaconda\\Lib\\site-packages\\pyaudio\\__init__.py:570\u001b[0m, in \u001b[0;36mPyAudio.Stream.read\u001b[1;34m(self, num_frames, exception_on_overflow)\u001b[0m\n\u001b[0;32m    568\u001b[0m     \u001b[38;5;28;01mraise\u001b[39;00m \u001b[38;5;167;01mIOError\u001b[39;00m(\u001b[38;5;124m\"\u001b[39m\u001b[38;5;124mNot input stream\u001b[39m\u001b[38;5;124m\"\u001b[39m,\n\u001b[0;32m    569\u001b[0m                   paCanNotReadFromAnOutputOnlyStream)\n\u001b[1;32m--> 570\u001b[0m \u001b[38;5;28;01mreturn\u001b[39;00m pa\u001b[38;5;241m.\u001b[39mread_stream(\u001b[38;5;28mself\u001b[39m\u001b[38;5;241m.\u001b[39m_stream, num_frames,\n\u001b[0;32m    571\u001b[0m                       exception_on_overflow)\n",
      "\u001b[1;31mOSError\u001b[0m: [Errno -9999] Unanticipated host error",
      "\nDuring handling of the above exception, another exception occurred:\n",
      "\u001b[1;31mOSError\u001b[0m                                   Traceback (most recent call last)",
      "Cell \u001b[1;32mIn[1], line 21\u001b[0m\n\u001b[0;32m     19\u001b[0m \u001b[38;5;66;03m# Voice recognition loop\u001b[39;00m\n\u001b[0;32m     20\u001b[0m \u001b[38;5;28;01mwhile\u001b[39;00m \u001b[38;5;28;01mTrue\u001b[39;00m:\n\u001b[1;32m---> 21\u001b[0m     \u001b[38;5;28;01mwith\u001b[39;00m sr\u001b[38;5;241m.\u001b[39mMicrophone() \u001b[38;5;28;01mas\u001b[39;00m source:\n\u001b[0;32m     22\u001b[0m         \u001b[38;5;28mprint\u001b[39m(\u001b[38;5;124m\"\u001b[39m\u001b[38;5;124mListening for a command...\u001b[39m\u001b[38;5;124m\"\u001b[39m)\n\u001b[0;32m     23\u001b[0m         audio \u001b[38;5;241m=\u001b[39m recognizer\u001b[38;5;241m.\u001b[39mlisten(source)\n",
      "File \u001b[1;32m~\\anaconda\\Lib\\site-packages\\speech_recognition\\__init__.py:189\u001b[0m, in \u001b[0;36mMicrophone.__exit__\u001b[1;34m(self, exc_type, exc_value, traceback)\u001b[0m\n\u001b[0;32m    187\u001b[0m \u001b[38;5;28;01mdef\u001b[39;00m \u001b[38;5;21m__exit__\u001b[39m(\u001b[38;5;28mself\u001b[39m, exc_type, exc_value, traceback):\n\u001b[0;32m    188\u001b[0m     \u001b[38;5;28;01mtry\u001b[39;00m:\n\u001b[1;32m--> 189\u001b[0m         \u001b[38;5;28mself\u001b[39m\u001b[38;5;241m.\u001b[39mstream\u001b[38;5;241m.\u001b[39mclose()\n\u001b[0;32m    190\u001b[0m     \u001b[38;5;28;01mfinally\u001b[39;00m:\n\u001b[0;32m    191\u001b[0m         \u001b[38;5;28mself\u001b[39m\u001b[38;5;241m.\u001b[39mstream \u001b[38;5;241m=\u001b[39m \u001b[38;5;28;01mNone\u001b[39;00m\n",
      "File \u001b[1;32m~\\anaconda\\Lib\\site-packages\\speech_recognition\\__init__.py:204\u001b[0m, in \u001b[0;36mMicrophone.MicrophoneStream.close\u001b[1;34m(self)\u001b[0m\n\u001b[0;32m    201\u001b[0m \u001b[38;5;28;01mdef\u001b[39;00m \u001b[38;5;21mclose\u001b[39m(\u001b[38;5;28mself\u001b[39m):\n\u001b[0;32m    202\u001b[0m     \u001b[38;5;28;01mtry\u001b[39;00m:\n\u001b[0;32m    203\u001b[0m         \u001b[38;5;66;03m# sometimes, if the stream isn't stopped, closing the stream throws an exception\u001b[39;00m\n\u001b[1;32m--> 204\u001b[0m         \u001b[38;5;28;01mif\u001b[39;00m \u001b[38;5;129;01mnot\u001b[39;00m \u001b[38;5;28mself\u001b[39m\u001b[38;5;241m.\u001b[39mpyaudio_stream\u001b[38;5;241m.\u001b[39mis_stopped():\n\u001b[0;32m    205\u001b[0m             \u001b[38;5;28mself\u001b[39m\u001b[38;5;241m.\u001b[39mpyaudio_stream\u001b[38;5;241m.\u001b[39mstop_stream()\n\u001b[0;32m    206\u001b[0m     \u001b[38;5;28;01mfinally\u001b[39;00m:\n",
      "File \u001b[1;32m~\\anaconda\\Lib\\site-packages\\pyaudio\\__init__.py:515\u001b[0m, in \u001b[0;36mPyAudio.Stream.is_stopped\u001b[1;34m(self)\u001b[0m\n\u001b[0;32m    510\u001b[0m \u001b[38;5;28;01mdef\u001b[39;00m \u001b[38;5;21mis_stopped\u001b[39m(\u001b[38;5;28mself\u001b[39m):\n\u001b[0;32m    511\u001b[0m \u001b[38;5;250m    \u001b[39m\u001b[38;5;124;03m\"\"\"Returns whether the stream is stopped.\u001b[39;00m\n\u001b[0;32m    512\u001b[0m \n\u001b[0;32m    513\u001b[0m \u001b[38;5;124;03m    :rtype: bool\u001b[39;00m\n\u001b[0;32m    514\u001b[0m \u001b[38;5;124;03m    \"\"\"\u001b[39;00m\n\u001b[1;32m--> 515\u001b[0m     \u001b[38;5;28;01mreturn\u001b[39;00m pa\u001b[38;5;241m.\u001b[39mis_stream_stopped(\u001b[38;5;28mself\u001b[39m\u001b[38;5;241m.\u001b[39m_stream)\n",
      "\u001b[1;31mOSError\u001b[0m: [Errno -9988] Stream closed"
     ]
    }
   ],
   "source": [
    "import os\n",
    "import speech_recognition as sr\n",
    "import subprocess\n",
    "\n",
    "# Initialize the recognizer\n",
    "recognizer = sr.Recognizer()\n",
    "\n",
    "# Function to open a file or folder by name\n",
    "def open_item_by_name(item_name):\n",
    "    try:\n",
    "        if os.name == 'nt':  # Check if the operating system is Windows\n",
    "            os.startfile(item_name)\n",
    "        else:\n",
    "            subprocess.Popen(['open', item_name], shell=True)  \n",
    "        print(f\"Opening item: {item_name}\")\n",
    "    except Exception as e:\n",
    "        print(f\"Error opening the item: {e}\")\n",
    "\n",
    "# Voice recognition loop\n",
    "while True:\n",
    "    with sr.Microphone() as source:\n",
    "        print(\"Listening for a command...\")\n",
    "        audio = recognizer.listen(source)\n",
    "\n",
    "    try:\n",
    "        command = recognizer.recognize_google(audio).lower()\n",
    "        print(\"You said:\", command)\n",
    "\n",
    "        if \"open\" in command:\n",
    "            item_name = command.replace(\"open\", \"\").strip()\n",
    "            open_item_by_name(item_name)\n",
    "        else:\n",
    "            print(\"Command not recognized\")\n",
    "    except sr.UnknownValueError:\n",
    "        print(\"Could not understand audio\")\n",
    "    except sr.RequestError as e:\n",
    "        print(f\"Could not request results; {e}\")\n"
   ]
  },
  {
   "cell_type": "code",
   "execution_count": null,
   "id": "b20dcc8b-11a5-45ad-85f9-e53fab2ec53c",
   "metadata": {},
   "outputs": [],
   "source": []
  }
 ],
 "metadata": {
  "kernelspec": {
   "display_name": "Python 3 (ipykernel)",
   "language": "python",
   "name": "python3"
  },
  "language_info": {
   "codemirror_mode": {
    "name": "ipython",
    "version": 3
   },
   "file_extension": ".py",
   "mimetype": "text/x-python",
   "name": "python",
   "nbconvert_exporter": "python",
   "pygments_lexer": "ipython3",
   "version": "3.11.5"
  }
 },
 "nbformat": 4,
 "nbformat_minor": 5
}
