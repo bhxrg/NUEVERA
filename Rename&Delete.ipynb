{
 "cells": [
  {
   "cell_type": "markdown",
   "id": "caa4ce1e-131b-49b7-95aa-c1d23a371c6c",
   "metadata": {},
   "source": [
    "## renaming and deleting files and folders using speech recognition"
   ]
  },
  {
   "cell_type": "code",
   "execution_count": 1,
   "id": "ae193701-4c6d-43ec-8bab-f5da3d93afe5",
   "metadata": {
    "tags": []
   },
   "outputs": [
    {
     "name": "stdout",
     "output_type": "stream",
     "text": [
      "Requirement already satisfied: SpeechRecognition in c:\\users\\prasanna\\anaconda\\lib\\site-packages (3.10.0)\n",
      "Requirement already satisfied: requests>=2.26.0 in c:\\users\\prasanna\\anaconda\\lib\\site-packages (from SpeechRecognition) (2.31.0)\n",
      "Requirement already satisfied: charset-normalizer<4,>=2 in c:\\users\\prasanna\\anaconda\\lib\\site-packages (from requests>=2.26.0->SpeechRecognition) (2.0.4)\n",
      "Requirement already satisfied: idna<4,>=2.5 in c:\\users\\prasanna\\anaconda\\lib\\site-packages (from requests>=2.26.0->SpeechRecognition) (3.4)\n",
      "Requirement already satisfied: urllib3<3,>=1.21.1 in c:\\users\\prasanna\\anaconda\\lib\\site-packages (from requests>=2.26.0->SpeechRecognition) (1.26.16)\n",
      "Requirement already satisfied: certifi>=2017.4.17 in c:\\users\\prasanna\\anaconda\\lib\\site-packages (from requests>=2.26.0->SpeechRecognition) (2023.7.22)\n",
      "Note: you may need to restart the kernel to use updated packages.\n"
     ]
    }
   ],
   "source": [
    "pip install SpeechRecognition"
   ]
  },
  {
   "cell_type": "code",
   "execution_count": 2,
   "id": "361c919b-f0a7-4c6d-845e-c4c97796f969",
   "metadata": {
    "tags": []
   },
   "outputs": [],
   "source": [
    "import os"
   ]
  },
  {
   "cell_type": "code",
   "execution_count": 3,
   "id": "02ec493a-21cb-40fb-8a88-567afd7fc47e",
   "metadata": {
    "tags": []
   },
   "outputs": [
    {
     "name": "stdout",
     "output_type": "stream",
     "text": [
      "Requirement already satisfied: pipwin in c:\\users\\prasanna\\anaconda\\lib\\site-packages (0.5.2)Note: you may need to restart the kernel to use updated packages.\n",
      "\n",
      "Requirement already satisfied: docopt in c:\\users\\prasanna\\anaconda\\lib\\site-packages (from pipwin) (0.6.2)\n",
      "Requirement already satisfied: requests in c:\\users\\prasanna\\anaconda\\lib\\site-packages (from pipwin) (2.31.0)\n",
      "Requirement already satisfied: pyprind in c:\\users\\prasanna\\anaconda\\lib\\site-packages (from pipwin) (2.11.3)\n",
      "Requirement already satisfied: six in c:\\users\\prasanna\\anaconda\\lib\\site-packages (from pipwin) (1.16.0)\n",
      "Requirement already satisfied: beautifulsoup4>=4.9.0 in c:\\users\\prasanna\\anaconda\\lib\\site-packages (from pipwin) (4.12.2)\n",
      "Requirement already satisfied: js2py in c:\\users\\prasanna\\anaconda\\lib\\site-packages (from pipwin) (0.74)\n",
      "Requirement already satisfied: packaging in c:\\users\\prasanna\\anaconda\\lib\\site-packages (from pipwin) (23.1)\n",
      "Requirement already satisfied: pySmartDL>=1.3.1 in c:\\users\\prasanna\\anaconda\\lib\\site-packages (from pipwin) (1.3.4)\n",
      "Requirement already satisfied: soupsieve>1.2 in c:\\users\\prasanna\\anaconda\\lib\\site-packages (from beautifulsoup4>=4.9.0->pipwin) (2.4)\n",
      "Requirement already satisfied: tzlocal>=1.2 in c:\\users\\prasanna\\anaconda\\lib\\site-packages (from js2py->pipwin) (5.2)\n",
      "Requirement already satisfied: pyjsparser>=2.5.1 in c:\\users\\prasanna\\anaconda\\lib\\site-packages (from js2py->pipwin) (2.7.1)\n",
      "Requirement already satisfied: charset-normalizer<4,>=2 in c:\\users\\prasanna\\anaconda\\lib\\site-packages (from requests->pipwin) (2.0.4)\n",
      "Requirement already satisfied: idna<4,>=2.5 in c:\\users\\prasanna\\anaconda\\lib\\site-packages (from requests->pipwin) (3.4)\n",
      "Requirement already satisfied: urllib3<3,>=1.21.1 in c:\\users\\prasanna\\anaconda\\lib\\site-packages (from requests->pipwin) (1.26.16)\n",
      "Requirement already satisfied: certifi>=2017.4.17 in c:\\users\\prasanna\\anaconda\\lib\\site-packages (from requests->pipwin) (2023.7.22)\n",
      "Requirement already satisfied: tzdata in c:\\users\\prasanna\\anaconda\\lib\\site-packages (from tzlocal>=1.2->js2py->pipwin) (2023.3)\n"
     ]
    }
   ],
   "source": [
    "pip install pipwin"
   ]
  },
  {
   "cell_type": "code",
   "execution_count": 4,
   "id": "273bb9a0-cd9e-464b-be08-35aadb926149",
   "metadata": {
    "tags": []
   },
   "outputs": [
    {
     "name": "stdout",
     "output_type": "stream",
     "text": [
      "Requirement already satisfied: sounddevice in c:\\users\\prasanna\\anaconda\\lib\\site-packages (0.4.6)\n",
      "Requirement already satisfied: CFFI>=1.0 in c:\\users\\prasanna\\anaconda\\lib\\site-packages (from sounddevice) (1.15.1)\n",
      "Requirement already satisfied: pycparser in c:\\users\\prasanna\\anaconda\\lib\\site-packages (from CFFI>=1.0->sounddevice) (2.21)\n",
      "Note: you may need to restart the kernel to use updated packages.\n"
     ]
    }
   ],
   "source": [
    "pip install sounddevice"
   ]
  },
  {
   "cell_type": "code",
   "execution_count": 5,
   "id": "f0aba9df-2284-4d46-910d-88de3e05ff9c",
   "metadata": {
    "tags": []
   },
   "outputs": [
    {
     "name": "stdout",
     "output_type": "stream",
     "text": [
      "Requirement already satisfied: pydub in c:\\users\\prasanna\\anaconda\\lib\\site-packages (0.25.1)\n",
      "Note: you may need to restart the kernel to use updated packages.\n"
     ]
    }
   ],
   "source": [
    "pip install pydub"
   ]
  },
  {
   "cell_type": "code",
   "execution_count": 6,
   "id": "95053f6e-7fed-40aa-8615-a074cfa2286d",
   "metadata": {
    "tags": []
   },
   "outputs": [
    {
     "name": "stdout",
     "output_type": "stream",
     "text": [
      "Requirement already satisfied: pyaudio in c:\\users\\prasanna\\anaconda\\lib\\site-packages (0.2.13)\n",
      "Note: you may need to restart the kernel to use updated packages.\n"
     ]
    }
   ],
   "source": [
    "pip install pyaudio"
   ]
  },
  {
   "cell_type": "code",
   "execution_count": 1,
   "id": "0b8dd9a1-282e-4f9c-bc60-c581aff79ff0",
   "metadata": {
    "tags": []
   },
   "outputs": [
    {
     "name": "stdout",
     "output_type": "stream",
     "text": [
      "Say the old name of the file or folder:\n",
      "Recognized: folder\n",
      "Did you say 'folder'? (yes/no)\n"
     ]
    },
    {
     "name": "stdin",
     "output_type": "stream",
     "text": [
      " yes\n"
     ]
    },
    {
     "name": "stdout",
     "output_type": "stream",
     "text": [
      "Now, say the new name:\n",
      "Say the old name of the file or folder:\n",
      "Recognized: new folder\n",
      "Did you say 'new folder'? (yes/no)\n"
     ]
    },
    {
     "name": "stdin",
     "output_type": "stream",
     "text": [
      " yes\n"
     ]
    },
    {
     "name": "stdout",
     "output_type": "stream",
     "text": [
      "File or folder 'folder' renamed to 'new folder' in '.'.\n"
     ]
    }
   ],
   "source": [
    "import os\n",
    "import speech_recognition as sr\n",
    "\n",
    "def recognize_speech():\n",
    "    recognizer = sr.Recognizer()\n",
    "\n",
    "    with sr.Microphone() as source:\n",
    "        print(\"Say the old name of the file or folder:\")\n",
    "        recognizer.adjust_for_ambient_noise(source)\n",
    "        audio = recognizer.listen(source)\n",
    "\n",
    "    try:\n",
    "        command = recognizer.recognize_google(audio)\n",
    "        print(f\"Recognized: {command}\")\n",
    "        return command.lower()\n",
    "    except sr.UnknownValueError:\n",
    "        print(\"Speech Recognition could not understand audio.\")\n",
    "        return None\n",
    "    except sr.RequestError as e:\n",
    "        print(f\"Could not request results from Google Speech Recognition service; {e}\")\n",
    "        return None\n",
    "\n",
    "def rename_file_or_folder(old_name, new_name, directory):\n",
    "    old_path = os.path.join(directory, old_name)\n",
    "    new_path = os.path.join(directory, new_name)\n",
    "\n",
    "    try:\n",
    "        os.rename(old_path, new_path)\n",
    "        print(f\"File or folder '{old_name}' renamed to '{new_name}' in '{directory}'.\")\n",
    "    except FileNotFoundError:\n",
    "        print(f\"Error: File or folder '{old_name}' not found in '{directory}'.\")\n",
    "    except Exception as e:\n",
    "        print(f\"An error occurred while renaming the file or folder: {e}\")\n",
    "\n",
    "def main():\n",
    "    while True:\n",
    "        old_name = recognize_speech()\n",
    "        if old_name:\n",
    "            print(f\"Did you say '{old_name}'? (yes/no)\")\n",
    "            confirmation = input().lower()\n",
    "            if confirmation == 'yes':\n",
    "                print(\"Now, say the new name:\")\n",
    "                new_name = recognize_speech()\n",
    "                if new_name:\n",
    "                    print(f\"Did you say '{new_name}'? (yes/no)\")\n",
    "                    confirmation = input().lower()\n",
    "                    if confirmation == 'yes':\n",
    "                        directory = '.'  # You can set the desired directory\n",
    "                        rename_file_or_folder(old_name, new_name, directory)\n",
    "                        break  # This breaks out of the while loop\n",
    "                    else:\n",
    "                        print(\"Aborted. Please rerun the script and try again.\")\n",
    "                else:\n",
    "                    print(\"Failed to recognize the new name. Please rerun the script and try again.\")\n",
    "            else:\n",
    "                print(\"Aborted. Please rerun the script and try again.\")\n",
    "        else:\n",
    "            print(\"Failed to recognize the old name. Please rerun the script and try again.\")\n",
    "\n",
    "if __name__ == \"__main__\":\n",
    "    main()\n"
   ]
  },
  {
   "cell_type": "code",
   "execution_count": null,
   "id": "76b05fa2-6f68-4958-8854-216466f7b99b",
   "metadata": {
    "tags": []
   },
   "outputs": [
    {
     "name": "stdout",
     "output_type": "stream",
     "text": [
      "Listening for a command...\n",
      "You said: delete new folder\n",
      "Deleting folder: new folder\n",
      "Listening for a command...\n",
      "Could not understand audio\n",
      "Listening for a command...\n",
      "Could not understand audio\n",
      "Listening for a command...\n",
      "Could not understand audio\n",
      "Listening for a command...\n"
     ]
    }
   ],
   "source": [
    "import os\n",
    "import speech_recognition as sr\n",
    "import subprocess\n",
    "\n",
    "# Initialize the recognizer\n",
    "recognizer = sr.Recognizer()\n",
    "\n",
    "# Function to delete a folder by name\n",
    "def delete_folder_by_name(folder_name):\n",
    "    try:\n",
    "        os.rmdir(folder_name)\n",
    "        print(f\"Deleting folder: {folder_name}\")\n",
    "    except Exception as e:\n",
    "        print(f\"Error deleting the folder: {e}\")\n",
    "\n",
    "# Function to rename a file or folder\n",
    "def rename_item():\n",
    "    try:\n",
    "        print(\"What is the current name of the item?\")\n",
    "        audio_old_name = recognizer.listen(recognizer.Microphone())\n",
    "        old_name = recognizer.recognize_google(audio_old_name).lower()\n",
    "\n",
    "        print(\"What is the new name for the item?\")\n",
    "        audio_new_name = recognizer.listen(recognizer.Microphone())\n",
    "        new_name = recognizer.recognize_google(audio_new_name).lower()\n",
    "\n",
    "        os.rename(old_name, new_name)\n",
    "        print(f\"Renaming item: {old_name} to {new_name}\")\n",
    "    except Exception as e:\n",
    "        print(f\"Error renaming the item: {e}\")\n",
    "\n",
    "# Voice recognition loop\n",
    "while True:\n",
    "    with sr.Microphone() as source:\n",
    "        print(\"Listening for a command...\")\n",
    "        audio = recognizer.listen(source)\n",
    "\n",
    "    try:\n",
    "        command = recognizer.recognize_google(audio).lower()\n",
    "        print(\"You said:\", command)\n",
    "\n",
    "        if \"delete\" in command:\n",
    "            folder_name = command.replace(\"delete\", \"\").strip()\n",
    "            delete_folder_by_name(folder_name)\n",
    "        elif \"rename\" in command:\n",
    "            rename_item()\n",
    "        else:\n",
    "            print(\"Command not recognized\")\n",
    "    except sr.UnknownValueError:\n",
    "        print(\"Could not understand audio\")\n",
    "    except sr.RequestError as e:\n",
    "        print(f\"Could not request results; {e}\")\n"
   ]
  },
  {
   "cell_type": "code",
   "execution_count": null,
   "id": "35af4a99-c596-46a6-9496-41a0c74e8e67",
   "metadata": {},
   "outputs": [],
   "source": []
  }
 ],
 "metadata": {
  "kernelspec": {
   "display_name": "Python 3 (ipykernel)",
   "language": "python",
   "name": "python3"
  },
  "language_info": {
   "codemirror_mode": {
    "name": "ipython",
    "version": 3
   },
   "file_extension": ".py",
   "mimetype": "text/x-python",
   "name": "python",
   "nbconvert_exporter": "python",
   "pygments_lexer": "ipython3",
   "version": "3.11.5"
  }
 },
 "nbformat": 4,
 "nbformat_minor": 5
}
