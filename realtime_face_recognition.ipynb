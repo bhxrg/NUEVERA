{
 "cells": [
  {
   "cell_type": "code",
   "execution_count": 13,
   "id": "48d7cca4",
   "metadata": {},
   "outputs": [],
   "source": [
    "import cv2\n",
    "'''if error appears as module not found then you shld first download any version of python and in command prompt: pip install opencv-python \n",
    "then itll download the dependencies then type python then import cv2 if no error its successfully installed to recheck type cv2.__version__\n",
    "itll give the version name'''\n",
    "\n",
    "# Load the pre-trained cascade classifier\n",
    "face_cascade = cv2.CascadeClassifier(cv2.data.haarcascades + \"haarcascade_frontalface_default.xml\")\n",
    "font = cv2.FONT_HERSHEY_SIMPLEX\n",
    "\n",
    "# Check if the capture is already open; if so, close it\n",
    "cap = cv2.VideoCapture(0)\n",
    "if cap.isOpened():\n",
    "    cap.release()\n",
    "\n",
    "# Re-open the capture\n",
    "cap = cv2.VideoCapture(0)\n",
    "\n",
    "# Name the window and set a window property to bring it to the foreground and make it fullscreen\n",
    "cv2.namedWindow('Face Detection', cv2.WND_PROP_FULLSCREEN)\n",
    "#cv2.setWindowProperty('Face Detection', cv2.WND_PROP_FULLSCREEN, cv2.WINDOW_FULLSCREEN)\n",
    "\n",
    "while True:\n",
    "    # Read a frame from the video capture\n",
    "    ret, frame = cap.read()\n",
    "\n",
    "    # Check if the frame was successfully captured\n",
    "    if not ret:\n",
    "        print(\"Failed to grab frame\")\n",
    "        break\n",
    "\n",
    "    # Convert the frame to grayscale for face detection\n",
    "    gray = cv2.cvtColor(frame, cv2.COLOR_BGR2GRAY)\n",
    "\n",
    "    # Detect faces\n",
    "    faces = face_cascade.detectMultiScale(gray, scaleFactor=1.1, minNeighbors=5, minSize=(30, 30))\n",
    "\n",
    "    # Draw rectangles around detected faces\n",
    "    for (x, y, w, h) in faces:\n",
    "        cv2.rectangle(frame, (x, y), (x+w, y+h), (0, 255, 0), 2)\n",
    "\n",
    "    # Show the frame with detected faces\n",
    "    \n",
    "    #count total number of faces\n",
    "    cv2.putText(frame,'Number of Faces:' + str(len(faces)),(40,40),font,1,(255,0,0),2)\n",
    "    cv2.imshow('Face detection',frame)\n",
    "\n",
    "    # Break out of the loop if 'q' is pressed\n",
    "    if cv2.waitKey(1) & 0xFF == ord('q'):\n",
    "        break\n",
    "else:\n",
    "    # This will only execute if the loop ended without hitting a break statement.\n",
    "    print(\"Live Face Capture Successful\")\n",
    "\n",
    "# Release the camera and close all OpenCV windows\n",
    "cap.release()\n",
    "cv2.destroyAllWindows()\n"
   ]
  },
  {
   "cell_type": "code",
   "execution_count": null,
   "id": "2ca1369f",
   "metadata": {},
   "outputs": [],
   "source": []
  },
  {
   "cell_type": "code",
   "execution_count": null,
   "id": "08f878c4",
   "metadata": {},
   "outputs": [],
   "source": []
  },
  {
   "cell_type": "code",
   "execution_count": null,
   "id": "abef7196",
   "metadata": {},
   "outputs": [],
   "source": []
  },
  {
   "cell_type": "code",
   "execution_count": null,
   "id": "bcce908c",
   "metadata": {},
   "outputs": [],
   "source": []
  },
  {
   "cell_type": "code",
   "execution_count": null,
   "id": "0e32ef22",
   "metadata": {},
   "outputs": [],
   "source": []
  }
 ],
 "metadata": {
  "kernelspec": {
   "display_name": "Python 3 (ipykernel)",
   "language": "python",
   "name": "python3"
  },
  "language_info": {
   "codemirror_mode": {
    "name": "ipython",
    "version": 3
   },
   "file_extension": ".py",
   "mimetype": "text/x-python",
   "name": "python",
   "nbconvert_exporter": "python",
   "pygments_lexer": "ipython3",
   "version": "3.11.5"
  }
 },
 "nbformat": 4,
 "nbformat_minor": 5
}
