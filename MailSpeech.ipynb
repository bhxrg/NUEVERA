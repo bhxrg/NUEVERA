{
 "cells": [
  {
   "cell_type": "code",
   "execution_count": 1,
   "id": "7f2fc76c-7080-41c3-92ee-7bf2624caa42",
   "metadata": {
    "tags": []
   },
   "outputs": [
    {
     "name": "stdout",
     "output_type": "stream",
     "text": [
      "Requirement already satisfied: SpeechRecognition in c:\\users\\prasanna\\anaconda\\lib\\site-packages (3.10.0)\n",
      "Requirement already satisfied: requests>=2.26.0 in c:\\users\\prasanna\\anaconda\\lib\\site-packages (from SpeechRecognition) (2.31.0)\n",
      "Requirement already satisfied: charset-normalizer<4,>=2 in c:\\users\\prasanna\\anaconda\\lib\\site-packages (from requests>=2.26.0->SpeechRecognition) (2.0.4)\n",
      "Requirement already satisfied: idna<4,>=2.5 in c:\\users\\prasanna\\anaconda\\lib\\site-packages (from requests>=2.26.0->SpeechRecognition) (3.4)\n",
      "Requirement already satisfied: urllib3<3,>=1.21.1 in c:\\users\\prasanna\\anaconda\\lib\\site-packages (from requests>=2.26.0->SpeechRecognition) (1.26.16)\n",
      "Requirement already satisfied: certifi>=2017.4.17 in c:\\users\\prasanna\\anaconda\\lib\\site-packages (from requests>=2.26.0->SpeechRecognition) (2023.7.22)\n",
      "Note: you may need to restart the kernel to use updated packages.\n"
     ]
    }
   ],
   "source": [
    "pip install SpeechRecognition"
   ]
  },
  {
   "cell_type": "code",
   "execution_count": 2,
   "id": "860ed794-9ce0-4262-89ef-73ba8bb37101",
   "metadata": {
    "tags": []
   },
   "outputs": [
    {
     "name": "stdout",
     "output_type": "stream",
     "text": [
      "Requirement already satisfied: pyttsx3 in c:\\users\\prasanna\\anaconda\\lib\\site-packages (2.90)\n",
      "Requirement already satisfied: comtypes in c:\\users\\prasanna\\anaconda\\lib\\site-packages (from pyttsx3) (1.2.0)\n",
      "Requirement already satisfied: pypiwin32 in c:\\users\\prasanna\\anaconda\\lib\\site-packages (from pyttsx3) (223)\n",
      "Requirement already satisfied: pywin32 in c:\\users\\prasanna\\anaconda\\lib\\site-packages (from pyttsx3) (305.1)\n",
      "Note: you may need to restart the kernel to use updated packages.\n"
     ]
    }
   ],
   "source": [
    "pip install pyttsx3\n"
   ]
  },
  {
   "cell_type": "code",
   "execution_count": 3,
   "id": "e8beba5c-3244-44db-b60f-13a685e6c06d",
   "metadata": {
    "tags": []
   },
   "outputs": [],
   "source": [
    "import os"
   ]
  },
  {
   "cell_type": "code",
   "execution_count": 4,
   "id": "c3fca5fd-093a-4ba8-a6eb-795a3244f036",
   "metadata": {
    "tags": []
   },
   "outputs": [
    {
     "name": "stdout",
     "output_type": "stream",
     "text": [
      "Requirement already satisfied: pyaudio in c:\\users\\prasanna\\anaconda\\lib\\site-packages (0.2.13)\n",
      "Note: you may need to restart the kernel to use updated packages.\n"
     ]
    }
   ],
   "source": [
    "pip install pyaudio"
   ]
  },
  {
   "cell_type": "code",
   "execution_count": 5,
   "id": "e419e056-9503-4e64-8e2f-2e10ee6df27a",
   "metadata": {
    "tags": []
   },
   "outputs": [
    {
     "name": "stdout",
     "output_type": "stream",
     "text": [
      "Listening...\n",
      "Recognizing...\n",
      "Could not understand audio.\n",
      "Listening...\n",
      "Recognizing...\n",
      "User said: send email\n",
      "Listening...\n",
      "Recognizing...\n",
      "User said: kanchi bhardwaj\n",
      "Listening...\n",
      "Recognizing...\n",
      "User said: sorry for postponing the meeting\n",
      "Listening...\n",
      "Recognizing...\n",
      "User said: the meeting is scheduled after 2 hours\n"
     ]
    },
    {
     "ename": "gaierror",
     "evalue": "[Errno 11001] getaddrinfo failed",
     "output_type": "error",
     "traceback": [
      "\u001b[1;31m---------------------------------------------------------------------------\u001b[0m",
      "\u001b[1;31mgaierror\u001b[0m                                  Traceback (most recent call last)",
      "Cell \u001b[1;32mIn[5], line 96\u001b[0m\n\u001b[0;32m     94\u001b[0m     speak(\u001b[38;5;124m\"\u001b[39m\u001b[38;5;124mWhat should be the content of the email?\u001b[39m\u001b[38;5;124m\"\u001b[39m)\n\u001b[0;32m     95\u001b[0m     body \u001b[38;5;241m=\u001b[39m recognize_speech()\n\u001b[1;32m---> 96\u001b[0m     send_email(to, subject, body)\n\u001b[0;32m     97\u001b[0m     speak(\u001b[38;5;124m\"\u001b[39m\u001b[38;5;124mEmail sent successfully.\u001b[39m\u001b[38;5;124m\"\u001b[39m)\n\u001b[0;32m     98\u001b[0m \u001b[38;5;28;01melif\u001b[39;00m \u001b[38;5;124m\"\u001b[39m\u001b[38;5;124mread emails\u001b[39m\u001b[38;5;124m\"\u001b[39m \u001b[38;5;129;01min\u001b[39;00m command:\n",
      "Cell \u001b[1;32mIn[5], line 42\u001b[0m, in \u001b[0;36msend_email\u001b[1;34m(to, subject, body)\u001b[0m\n\u001b[0;32m     39\u001b[0m sender_password \u001b[38;5;241m=\u001b[39m \u001b[38;5;124m'\u001b[39m\u001b[38;5;124myour_email_password\u001b[39m\u001b[38;5;124m'\u001b[39m\n\u001b[0;32m     41\u001b[0m \u001b[38;5;66;03m# Connect to the SMTP server\u001b[39;00m\n\u001b[1;32m---> 42\u001b[0m server \u001b[38;5;241m=\u001b[39m smtplib\u001b[38;5;241m.\u001b[39mSMTP(smtp_server, smtp_port)\n\u001b[0;32m     43\u001b[0m server\u001b[38;5;241m.\u001b[39mstarttls()\n\u001b[0;32m     44\u001b[0m server\u001b[38;5;241m.\u001b[39mlogin(sender_email, sender_password)\n",
      "File \u001b[1;32m~\\anaconda\\Lib\\smtplib.py:255\u001b[0m, in \u001b[0;36mSMTP.__init__\u001b[1;34m(self, host, port, local_hostname, timeout, source_address)\u001b[0m\n\u001b[0;32m    252\u001b[0m \u001b[38;5;28mself\u001b[39m\u001b[38;5;241m.\u001b[39m_auth_challenge_count \u001b[38;5;241m=\u001b[39m \u001b[38;5;241m0\u001b[39m\n\u001b[0;32m    254\u001b[0m \u001b[38;5;28;01mif\u001b[39;00m host:\n\u001b[1;32m--> 255\u001b[0m     (code, msg) \u001b[38;5;241m=\u001b[39m \u001b[38;5;28mself\u001b[39m\u001b[38;5;241m.\u001b[39mconnect(host, port)\n\u001b[0;32m    256\u001b[0m     \u001b[38;5;28;01mif\u001b[39;00m code \u001b[38;5;241m!=\u001b[39m \u001b[38;5;241m220\u001b[39m:\n\u001b[0;32m    257\u001b[0m         \u001b[38;5;28mself\u001b[39m\u001b[38;5;241m.\u001b[39mclose()\n",
      "File \u001b[1;32m~\\anaconda\\Lib\\smtplib.py:341\u001b[0m, in \u001b[0;36mSMTP.connect\u001b[1;34m(self, host, port, source_address)\u001b[0m\n\u001b[0;32m    339\u001b[0m     port \u001b[38;5;241m=\u001b[39m \u001b[38;5;28mself\u001b[39m\u001b[38;5;241m.\u001b[39mdefault_port\n\u001b[0;32m    340\u001b[0m sys\u001b[38;5;241m.\u001b[39maudit(\u001b[38;5;124m\"\u001b[39m\u001b[38;5;124msmtplib.connect\u001b[39m\u001b[38;5;124m\"\u001b[39m, \u001b[38;5;28mself\u001b[39m, host, port)\n\u001b[1;32m--> 341\u001b[0m \u001b[38;5;28mself\u001b[39m\u001b[38;5;241m.\u001b[39msock \u001b[38;5;241m=\u001b[39m \u001b[38;5;28mself\u001b[39m\u001b[38;5;241m.\u001b[39m_get_socket(host, port, \u001b[38;5;28mself\u001b[39m\u001b[38;5;241m.\u001b[39mtimeout)\n\u001b[0;32m    342\u001b[0m \u001b[38;5;28mself\u001b[39m\u001b[38;5;241m.\u001b[39mfile \u001b[38;5;241m=\u001b[39m \u001b[38;5;28;01mNone\u001b[39;00m\n\u001b[0;32m    343\u001b[0m (code, msg) \u001b[38;5;241m=\u001b[39m \u001b[38;5;28mself\u001b[39m\u001b[38;5;241m.\u001b[39mgetreply()\n",
      "File \u001b[1;32m~\\anaconda\\Lib\\smtplib.py:312\u001b[0m, in \u001b[0;36mSMTP._get_socket\u001b[1;34m(self, host, port, timeout)\u001b[0m\n\u001b[0;32m    310\u001b[0m \u001b[38;5;28;01mif\u001b[39;00m \u001b[38;5;28mself\u001b[39m\u001b[38;5;241m.\u001b[39mdebuglevel \u001b[38;5;241m>\u001b[39m \u001b[38;5;241m0\u001b[39m:\n\u001b[0;32m    311\u001b[0m     \u001b[38;5;28mself\u001b[39m\u001b[38;5;241m.\u001b[39m_print_debug(\u001b[38;5;124m'\u001b[39m\u001b[38;5;124mconnect: to\u001b[39m\u001b[38;5;124m'\u001b[39m, (host, port), \u001b[38;5;28mself\u001b[39m\u001b[38;5;241m.\u001b[39msource_address)\n\u001b[1;32m--> 312\u001b[0m \u001b[38;5;28;01mreturn\u001b[39;00m socket\u001b[38;5;241m.\u001b[39mcreate_connection((host, port), timeout,\n\u001b[0;32m    313\u001b[0m                                 \u001b[38;5;28mself\u001b[39m\u001b[38;5;241m.\u001b[39msource_address)\n",
      "File \u001b[1;32m~\\anaconda\\Lib\\socket.py:827\u001b[0m, in \u001b[0;36mcreate_connection\u001b[1;34m(address, timeout, source_address, all_errors)\u001b[0m\n\u001b[0;32m    825\u001b[0m host, port \u001b[38;5;241m=\u001b[39m address\n\u001b[0;32m    826\u001b[0m exceptions \u001b[38;5;241m=\u001b[39m []\n\u001b[1;32m--> 827\u001b[0m \u001b[38;5;28;01mfor\u001b[39;00m res \u001b[38;5;129;01min\u001b[39;00m getaddrinfo(host, port, \u001b[38;5;241m0\u001b[39m, SOCK_STREAM):\n\u001b[0;32m    828\u001b[0m     af, socktype, proto, canonname, sa \u001b[38;5;241m=\u001b[39m res\n\u001b[0;32m    829\u001b[0m     sock \u001b[38;5;241m=\u001b[39m \u001b[38;5;28;01mNone\u001b[39;00m\n",
      "File \u001b[1;32m~\\anaconda\\Lib\\socket.py:962\u001b[0m, in \u001b[0;36mgetaddrinfo\u001b[1;34m(host, port, family, type, proto, flags)\u001b[0m\n\u001b[0;32m    959\u001b[0m \u001b[38;5;66;03m# We override this function since we want to translate the numeric family\u001b[39;00m\n\u001b[0;32m    960\u001b[0m \u001b[38;5;66;03m# and socket type values to enum constants.\u001b[39;00m\n\u001b[0;32m    961\u001b[0m addrlist \u001b[38;5;241m=\u001b[39m []\n\u001b[1;32m--> 962\u001b[0m \u001b[38;5;28;01mfor\u001b[39;00m res \u001b[38;5;129;01min\u001b[39;00m _socket\u001b[38;5;241m.\u001b[39mgetaddrinfo(host, port, family, \u001b[38;5;28mtype\u001b[39m, proto, flags):\n\u001b[0;32m    963\u001b[0m     af, socktype, proto, canonname, sa \u001b[38;5;241m=\u001b[39m res\n\u001b[0;32m    964\u001b[0m     addrlist\u001b[38;5;241m.\u001b[39mappend((_intenum_converter(af, AddressFamily),\n\u001b[0;32m    965\u001b[0m                      _intenum_converter(socktype, SocketKind),\n\u001b[0;32m    966\u001b[0m                      proto, canonname, sa))\n",
      "\u001b[1;31mgaierror\u001b[0m: [Errno 11001] getaddrinfo failed"
     ]
    }
   ],
   "source": [
    "import imaplib\n",
    "import email\n",
    "import smtplib\n",
    "import pyttsx3\n",
    "import speech_recognition as sr\n",
    "\n",
    "# Function to speak text using pyttsx3\n",
    "def speak(text):\n",
    "    engine = pyttsx3.init()\n",
    "    engine.say(text)\n",
    "    engine.runAndWait()\n",
    "\n",
    "# Function to recognize speech using Google Web Speech API\n",
    "def recognize_speech():\n",
    "    recognizer = sr.Recognizer()\n",
    "    with sr.Microphone() as source:\n",
    "        print(\"Listening...\")\n",
    "        recognizer.adjust_for_ambient_noise(source)\n",
    "        audio = recognizer.listen(source)\n",
    "        print(\"Recognizing...\")\n",
    "    \n",
    "    try:\n",
    "        command = recognizer.recognize_google(audio).lower()\n",
    "        print(f\"User said: {command}\")\n",
    "        return command\n",
    "    except sr.UnknownValueError:\n",
    "        print(\"Could not understand audio.\")\n",
    "        return None\n",
    "    except sr.RequestError as e:\n",
    "        print(f\"Could not request results from Google Speech Recognition service; {e}\")\n",
    "        return None\n",
    "\n",
    "# Function to send an email\n",
    "def send_email(to, subject, body):\n",
    "    # Your email configuration\n",
    "    smtp_server = 'your_smtp_server'\n",
    "    smtp_port = 587\n",
    "    sender_email = 'your_email@gmail.com'\n",
    "    sender_password = 'your_email_password'\n",
    "\n",
    "    # Connect to the SMTP server\n",
    "    server = smtplib.SMTP(smtp_server, smtp_port)\n",
    "    server.starttls()\n",
    "    server.login(sender_email, sender_password)\n",
    "\n",
    "    # Create email message\n",
    "    message = f\"Subject: {subject}\\n\\n{body}\"\n",
    "\n",
    "    # Send email\n",
    "    server.sendmail(sender_email, to, message)\n",
    "\n",
    "    # Close the connection\n",
    "    server.quit()\n",
    "\n",
    "# Function to read emails\n",
    "def read_emails():\n",
    "    # Your IMAP configuration\n",
    "    imap_server = 'your_imap_server'\n",
    "    imap_port = 993\n",
    "    email_address = 'your_email@gmail.com'\n",
    "    email_password = 'your_email_password'\n",
    "\n",
    "    # Connect to the IMAP server\n",
    "    mail = imaplib.IMAP4_SSL(imap_server, imap_port)\n",
    "    mail.login(email_address, email_password)\n",
    "    mail.select(\"inbox\")\n",
    "\n",
    "    # Search for all emails\n",
    "    _, message_numbers = mail.search(None, \"ALL\")\n",
    "\n",
    "    for num in message_numbers[0].split():\n",
    "        _, msg_data = mail.fetch(num, \"(RFC822)\")\n",
    "        msg = email.message_from_bytes(msg_data[0][1])\n",
    "        subject = msg[\"subject\"]\n",
    "        speak(f\"Subject: {subject}\")\n",
    "        body = msg.get_payload()\n",
    "        speak(\"Message:\")\n",
    "        speak(body)\n",
    "\n",
    "    # Logout and close the connection\n",
    "    mail.logout()\n",
    "\n",
    "# Main program loop\n",
    "while True:\n",
    "    speak(\"How can I assist you?\")\n",
    "    command = recognize_speech()\n",
    "\n",
    "    if command:\n",
    "        if \"send email\" in command:\n",
    "            speak(\"Who is the recipient?\")\n",
    "            to = recognize_speech()\n",
    "            speak(\"What is the subject?\")\n",
    "            subject = recognize_speech()\n",
    "            speak(\"What should be the content of the email?\")\n",
    "            body = recognize_speech()\n",
    "            send_email(to, subject, body)\n",
    "            speak(\"Email sent successfully.\")\n",
    "        elif \"read emails\" in command:\n",
    "            read_emails()\n",
    "        elif \"exit\" in command:\n",
    "            speak(\"Exiting the email system. Goodbye!\")\n",
    "            break\n",
    "        else:\n",
    "            speak(\"Sorry, I didn't understand that command.\")\n"
   ]
  },
  {
   "cell_type": "code",
   "execution_count": null,
   "id": "156fe159-59f9-4a62-8158-4a7adf58641e",
   "metadata": {},
   "outputs": [],
   "source": []
  }
 ],
 "metadata": {
  "kernelspec": {
   "display_name": "Python 3 (ipykernel)",
   "language": "python",
   "name": "python3"
  },
  "language_info": {
   "codemirror_mode": {
    "name": "ipython",
    "version": 3
   },
   "file_extension": ".py",
   "mimetype": "text/x-python",
   "name": "python",
   "nbconvert_exporter": "python",
   "pygments_lexer": "ipython3",
   "version": "3.11.5"
  }
 },
 "nbformat": 4,
 "nbformat_minor": 5
}
